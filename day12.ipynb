{
 "cells": [
  {
   "cell_type": "markdown",
   "metadata": {},
   "source": [
    "--- Day 12: Rain Risk ---\n",
    "\n",
    "Your ferry made decent progress toward the island, but the storm came in faster than anyone expected. The ferry needs to take evasive actions!\n",
    "\n",
    "Unfortunately, the ship's navigation computer seems to be malfunctioning; rather than giving a route directly to safety, it produced extremely circuitous instructions. When the captain uses the PA system to ask if anyone can help, you quickly volunteer.\n",
    "\n",
    "The navigation instructions (your puzzle input) consists of a sequence of single-character actions paired with integer input values. After staring at them for a few minutes, you work out what they probably mean:\n",
    "\n",
    "    Action N means to move north by the given value.\n",
    "    Action S means to move south by the given value.\n",
    "    Action E means to move east by the given value.\n",
    "    Action W means to move west by the given value.\n",
    "    Action L means to turn left the given number of degrees.\n",
    "    Action R means to turn right the given number of degrees.\n",
    "    Action F means to move forward by the given value in the direction the ship is currently facing.\n",
    "\n",
    "The ship starts by facing east. Only the L and R actions change the direction the ship is facing. (That is, if the ship is facing east and the next instruction is N10, the ship would move north 10 units, but would still move east if the following action were F.)\n",
    "\n",
    "For example:\n",
    "\n",
    "    F10\n",
    "    N3\n",
    "    F7\n",
    "    R90\n",
    "    F11\n",
    "\n",
    "These instructions would be handled as follows:\n",
    "\n",
    "    F10 would move the ship 10 units east (because the ship starts by facing east) to east 10, north 0.\n",
    "    N3 would move the ship 3 units north to east 10, north 3.\n",
    "    F7 would move the ship another 7 units east (because the ship is still facing east) to east 17, north 3.\n",
    "    R90 would cause the ship to turn right by 90 degrees and face south; it remains at east 17, north 3.\n",
    "    F11 would move the ship 11 units south to east 17, south 8.\n",
    "\n",
    "At the end of these instructions, the ship's Manhattan distance (sum of the absolute values of its east/west position and its north/south position) from its starting position is 17 + 8 = 25.\n",
    "\n",
    "Figure out where the navigation instructions lead. What is the Manhattan distance between that location and the ship's starting position?"
   ]
  },
  {
   "cell_type": "code",
   "execution_count": 22,
   "metadata": {},
   "outputs": [],
   "source": [
    "def read_file_to_arry():\n",
    "    file1 = open('data/day12.txt', 'r') \n",
    "    Lines = file1.readlines()\n",
    "    data = []\n",
    "    for line in Lines:\n",
    "        data.append(line.rstrip('\\n'))\n",
    "    return data"
   ]
  },
  {
   "cell_type": "code",
   "execution_count": 11,
   "metadata": {},
   "outputs": [],
   "source": [
    "from bidict import bidict\n",
    "import numpy as np\n",
    "\n",
    "\n",
    "class Ship:\n",
    "    \n",
    "    faces = bidict({'E': 0, 'S':90, 'W':180, 'N':270})\n",
    "    \n",
    "    def __init__(self, x, y, face):\n",
    "        self.x = x\n",
    "        self.y = y\n",
    "        self.face = face\n",
    "        \n",
    "    def get_manhatten_dist(self):\n",
    "        return abs(self.x) + abs(self.y)\n",
    "    \n",
    "    def get_coords(self):\n",
    "        return (self.x, self.y)\n",
    "    \n",
    "    def turn(self, direction, degrees):\n",
    "        if (direction == 'L'):\n",
    "            key = self.faces[self.face] - degrees\n",
    "            if (key < 0):\n",
    "                key = 360 + key\n",
    "            elif (key == 360):\n",
    "                key = 0\n",
    "            self.face = self.faces.inverse[key]\n",
    "        elif (direction == 'R'):\n",
    "            key = self.faces[self.face] + degrees\n",
    "            if (key > 360):\n",
    "                key = key - 360\n",
    "            elif (key == 360):\n",
    "                key = 0\n",
    "            self.face = self.faces.inverse[key]\n",
    "            \n",
    "    def move(self, action, value):\n",
    "        if action == 'F':\n",
    "            self._move(self.face, value)\n",
    "        else:\n",
    "            self._move(action, value)\n",
    "            \n",
    "    def _move(self, action, value):\n",
    "        if action == 'N':\n",
    "            self.y += 1 * value\n",
    "        elif action == 'S':\n",
    "            self.y += -1 * value\n",
    "        elif action == 'E':\n",
    "            self.x += -1 * value\n",
    "        elif action == 'W':\n",
    "            self.x += 1 * value\n"
   ]
  },
  {
   "cell_type": "code",
   "execution_count": 220,
   "metadata": {},
   "outputs": [
    {
     "name": "stdout",
     "output_type": "stream",
     "text": [
      "Part one answer: 1032\n"
     ]
    }
   ],
   "source": [
    "\n",
    "def manhatten_distance(ship, data):\n",
    "    for inst in data:\n",
    "        action = inst[0]\n",
    "        value = inst[1:]\n",
    "        if (action == 'L' or action == 'R'):\n",
    "            ship.turn(action, int(value))\n",
    "        else:\n",
    "            ship.move(action, int(value))\n",
    "\n",
    "    return ship.get_manhatten_dist()\n",
    "    \n",
    "data = read_file_to_arry()\n",
    "ship = Ship(0,0, 'E')\n",
    "data = read_file_to_arry()\n",
    "part_one_answer = manhatten_distance(ship, data)\n",
    "print(\"Part one answer: \" + str(part_one_answer))"
   ]
  },
  {
   "cell_type": "code",
   "execution_count": 224,
   "metadata": {},
   "outputs": [
    {
     "name": "stdout",
     "output_type": "stream",
     "text": [
      "(-17, -8)\n"
     ]
    },
    {
     "data": {
      "text/plain": [
       "25"
      ]
     },
     "execution_count": 224,
     "metadata": {},
     "output_type": "execute_result"
    }
   ],
   "source": [
    "# testing\n",
    "\n",
    "ship = Ship(0,0, 'E')\n",
    "ship.move('F', 10)\n",
    "ship.move('N', 3)\n",
    "ship.move('F', 7)\n",
    "ship.turn('R', 90)\n",
    "ship.move('F', 11)\n",
    "print(ship.get_coords())\n",
    "ship.get_manhatten_dist()"
   ]
  },
  {
   "cell_type": "markdown",
   "metadata": {},
   "source": [
    "--- Part Two ---\n",
    "\n",
    "Before you can give the destination to the captain, you realize that the actual action meanings were printed on the back of the instructions the whole time.\n",
    "\n",
    "Almost all of the actions indicate how to move a waypoint which is relative to the ship's position:\n",
    "\n",
    "    Action N means to move the waypoint north by the given value.\n",
    "    Action S means to move the waypoint south by the given value.\n",
    "    Action E means to move the waypoint east by the given value.\n",
    "    Action W means to move the waypoint west by the given value.\n",
    "    Action L means to rotate the waypoint around the ship left (counter-clockwise) the given number of degrees.\n",
    "    Action R means to rotate the waypoint around the ship right (clockwise) the given number of degrees.\n",
    "    Action F means to move forward to the waypoint a number of times equal to the given value.\n",
    "\n",
    "The waypoint starts 10 units east and 1 unit north relative to the ship. The waypoint is relative to the ship; that is, if the ship moves, the waypoint moves with it.\n",
    "\n",
    "For example, using the same instructions as above:\n",
    "\n",
    "    F10 moves the ship to the waypoint 10 times (a total of 100 units east and 10 units north), leaving the ship at east 100, north 10. The waypoint stays 10 units east and 1 unit north of the ship.\n",
    "    N3 moves the waypoint 3 units north to 10 units east and 4 units north of the ship. The ship remains at east 100, north 10.\n",
    "    F7 moves the ship to the waypoint 7 times (a total of 70 units east and 28 units north), leaving the ship at east 170, north 38. The waypoint stays 10 units east and 4 units north of the ship.\n",
    "    R90 rotates the waypoint around the ship clockwise 90 degrees, moving it to 4 units east and 10 units south of the ship. The ship remains at east 170, north 38.\n",
    "    F11 moves the ship to the waypoint 11 times (a total of 44 units east and 110 units south), leaving the ship at east 214, south 72. The waypoint stays 4 units east and 10 units south of the ship.\n",
    "\n",
    "After these operations, the ship's Manhattan distance from its starting position is 214 + 72 = 286.\n",
    "\n",
    "Figure out where the navigation instructions actually lead. What is the Manhattan distance between that location and the ship's starting position?"
   ]
  },
  {
   "cell_type": "code",
   "execution_count": 32,
   "metadata": {},
   "outputs": [],
   "source": [
    "from bidict import bidict\n",
    "import numpy as np\n",
    "\n",
    "class BetterShip:\n",
    "    \n",
    "    def __init__(self, x, y, waypoint):\n",
    "        self.x = x\n",
    "        self.y = y\n",
    "        self.waypoint = waypoint\n",
    "        \n",
    "    def get_manhatten_dist(self):\n",
    "        return abs(self.x) + abs(self.y)\n",
    "    \n",
    "    def get_coords(self):\n",
    "        return (self.x, self.y)\n",
    "    \n",
    "    def turn(self, direction, degrees):\n",
    "        if (direction == 'L'):\n",
    "            self.waypoint.rotate_left(degrees)\n",
    "        elif (direction == 'R'):\n",
    "            self.waypoint.rotate_right(degrees)\n",
    "            \n",
    "    def move(self, action, value):\n",
    "        if action == 'F':\n",
    "            self.x +=  self.waypoint.x * value\n",
    "            self.y += self.waypoint.y * value\n",
    "        else:\n",
    "            waypoint.udpate_waypoint(action, value)\n",
    "            \n",
    "            \n",
    "class Waypoint:\n",
    "    \n",
    "    def __init__(self, x, y):\n",
    "        self.x = x\n",
    "        self.y = y \n",
    "        \n",
    "    def get_coords(self):\n",
    "        return (self.x, self.y)\n",
    "    \n",
    "    def udpate_waypoint(self, action, value):\n",
    "        if action == 'N':\n",
    "            self.y += value\n",
    "        elif action == 'S':\n",
    "            self.y -= value\n",
    "        elif action == 'E':\n",
    "            self.x -= value\n",
    "        elif action == 'W':\n",
    "            self.x += value\n",
    "        \n",
    "    def rotate_right(self, degrees):\n",
    "        if degrees == 90:\n",
    "            x = self.y*-1\n",
    "            y = self.x\n",
    "            self.x = x\n",
    "            self.y = y\n",
    "        elif degrees == 180:\n",
    "            x = self.x*-1\n",
    "            y = self.y*-1\n",
    "            self.x = x\n",
    "            self.y = y\n",
    "        elif degrees == 270:\n",
    "            x = self.y\n",
    "            y = self.x*-1\n",
    "            self.x = x\n",
    "            self.y = y\n",
    "            \n",
    "    def rotate_left(self, degrees):\n",
    "        if degrees == 90:\n",
    "            x = self.y\n",
    "            y = self.x*-1\n",
    "            self.x = x\n",
    "            self.y = y\n",
    "        elif degrees == 180:\n",
    "            x = self.x*-1\n",
    "            y = self.y*-1\n",
    "            self.x = x\n",
    "            self.y = y\n",
    "        elif degrees == 270:\n",
    "            x = self.y*-1\n",
    "            y = self.x\n",
    "            self.x = x\n",
    "            self.y = y"
   ]
  },
  {
   "cell_type": "code",
   "execution_count": 33,
   "metadata": {},
   "outputs": [
    {
     "name": "stdout",
     "output_type": "stream",
     "text": [
      "(-100, 10)\n",
      "(-10, 1)\n",
      "(-100, 10)\n",
      "(-10, 4)\n",
      "(-170, 38)\n",
      "(-10, 4)\n",
      "(-170, 38)\n",
      "(-4, -10)\n",
      "(-214, -72)\n"
     ]
    },
    {
     "data": {
      "text/plain": [
       "286"
      ]
     },
     "execution_count": 33,
     "metadata": {},
     "output_type": "execute_result"
    }
   ],
   "source": [
    "# testing\n",
    "\n",
    "waypoint = Waypoint(-10,1)\n",
    "ship = BetterShip(0,0, waypoint)\n",
    "ship.move('F', 10)\n",
    "print(ship.get_coords())\n",
    "print(ship.waypoint.get_coords())\n",
    "ship.move('N', 3)\n",
    "print(ship.get_coords())\n",
    "print(ship.waypoint.get_coords())\n",
    "ship.move('F', 7)\n",
    "print(ship.get_coords())\n",
    "print(ship.waypoint.get_coords())\n",
    "ship.turn('R', 90)\n",
    "print(ship.get_coords())\n",
    "print(ship.waypoint.get_coords())\n",
    "ship.move('F', 11)\n",
    "print(ship.get_coords())\n",
    "ship.get_manhatten_dist()"
   ]
  },
  {
   "cell_type": "code",
   "execution_count": 34,
   "metadata": {},
   "outputs": [
    {
     "name": "stdout",
     "output_type": "stream",
     "text": [
      "Part two answer: 156735\n"
     ]
    }
   ],
   "source": [
    "def manhatten_distance_2(ship, data):\n",
    "    for inst in data:\n",
    "        action = inst[0]\n",
    "        value = inst[1:]\n",
    "        if (action == 'L' or action == 'R'):\n",
    "            ship.turn(action, int(value))\n",
    "        else:\n",
    "            ship.move(action, int(value))\n",
    "\n",
    "    return ship.get_manhatten_dist()\n",
    "    \n",
    "waypoint = Waypoint(-10,1)\n",
    "ship = BetterShip(0,0, waypoint)\n",
    "data = read_file_to_arry()\n",
    "part_two_answer = manhatten_distance_2(ship, data)\n",
    "print(\"Part two answer: \" + str(part_two_answer))"
   ]
  }
 ],
 "metadata": {
  "kernelspec": {
   "display_name": "Python 3",
   "language": "python",
   "name": "python3"
  },
  "language_info": {
   "codemirror_mode": {
    "name": "ipython",
    "version": 3
   },
   "file_extension": ".py",
   "mimetype": "text/x-python",
   "name": "python",
   "nbconvert_exporter": "python",
   "pygments_lexer": "ipython3",
   "version": "3.8.2"
  }
 },
 "nbformat": 4,
 "nbformat_minor": 4
}
