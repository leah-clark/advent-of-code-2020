{
 "cells": [
  {
   "cell_type": "markdown",
   "metadata": {},
   "source": [
    "--- Day 9: Encoding Error ---\n",
    "    \n",
    "With your neighbor happily enjoying their video game, you turn your attention to an open data port on the little screen in the seat in front of you.\n",
    "\n",
    "Though the port is non-standard, you manage to connect it to your computer through the clever use of several paperclips. Upon connection, the port outputs a series of numbers (your puzzle input).\n",
    "\n",
    "The data appears to be encrypted with the eXchange-Masking Addition System (XMAS) which, conveniently for you, is an old cypher with an important weakness.\n",
    "\n",
    "XMAS starts by transmitting a preamble of 25 numbers. After that, each number you receive should be the sum of any two of the 25 immediately previous numbers. The two numbers will have different values, and there might be more than one such pair.\n",
    "\n",
    "For example, suppose your preamble consists of the numbers 1 through 25 in a random order. To be valid, the next number must be the sum of two of those numbers:\n",
    "\n",
    "26 would be a valid next number, as it could be 1 plus 25 (or many other pairs, like 2 and 24).\n",
    "49 would be a valid next number, as it is the sum of 24 and 25.\n",
    "100 would not be valid; no two of the previous 25 numbers sum to 100.\n",
    "50 would also not be valid; although 25 appears in the previous 25 numbers, the two numbers in the pair must be different.\n",
    "Suppose the 26th number is 45, and the first number (no longer an option, as it is more than 25 numbers ago) was 20. Now, for the next number to be valid, there needs to be some pair of numbers among 1-19, 21-25, or 45 that add up to it:\n",
    "\n",
    "26 would still be a valid next number, as 1 and 25 are still within the previous 25 numbers.\n",
    "65 would not be valid, as no two of the available numbers sum to it.\n",
    "64 and 66 would both be valid, as they are the result of 19+45 and 21+45 respectively.\n",
    "\n",
    "Here is a larger example which only considers the previous 5 numbers (and has a preamble of length 5):\n",
    "\n",
    "    35\n",
    "    20\n",
    "    15\n",
    "    25\n",
    "    47\n",
    "    40\n",
    "    62\n",
    "    55\n",
    "    65\n",
    "    95\n",
    "    102\n",
    "    117\n",
    "    150\n",
    "    182\n",
    "    127\n",
    "    219\n",
    "    299\n",
    "    277\n",
    "    309\n",
    "    576\n",
    "\n",
    "In this example, after the 5-number preamble, almost every number is the sum of two of the previous 5 numbers; the only number that does not follow this rule is 127.\n",
    "\n",
    "The first step of attacking the weakness in the XMAS data is to find the first number in the list (after the preamble) which is not the sum of two of the 25 numbers before it. What is the first number that does not have this property?"
   ]
  },
  {
   "cell_type": "code",
   "execution_count": 1,
   "metadata": {},
   "outputs": [],
   "source": [
    "def read_file_to_arry():\n",
    "    file1 = open('data/day09.txt', 'r') \n",
    "    Lines = file1.readlines()\n",
    "    data = []\n",
    "    for line in Lines:\n",
    "        data.append(int(line.rstrip('\\n')))\n",
    "    return data"
   ]
  },
  {
   "cell_type": "code",
   "execution_count": 2,
   "metadata": {},
   "outputs": [
    {
     "name": "stdout",
     "output_type": "stream",
     "text": [
      "Part one answer: 31161678\n"
     ]
    }
   ],
   "source": [
    "def find_invalid_number(data, rang):\n",
    "    for i in range(rang, len(data)):\n",
    "        preamble = data[i-rang:i]\n",
    "        success = []\n",
    "        for j in range(0, len(preamble)):\n",
    "            diff = data[i] - preamble[j]\n",
    "            if (diff != preamble[j]):\n",
    "                if (diff in preamble):\n",
    "                    success.append(preamble[j])\n",
    "        if(success == []):\n",
    "            return data[i]\n",
    "    return 'No weakness'\n",
    "                    \n",
    "data = read_file_to_arry()\n",
    "\n",
    "part_one_answer = find_invalid_number(data, 25)\n",
    "print(\"Part one answer: \" + str(part_one_answer))"
   ]
  },
  {
   "cell_type": "markdown",
   "metadata": {},
   "source": [
    "--- Part Two ---\n",
    "\n",
    "The final step in breaking the XMAS encryption relies on the invalid number you just found: you must find a contiguous set of at least two numbers in your list which sum to the invalid number from step 1.\n",
    "\n",
    "Again consider the above example:\n",
    "\n",
    "    35\n",
    "    20\n",
    "    15\n",
    "    25\n",
    "    47\n",
    "    40\n",
    "    62\n",
    "    55\n",
    "    65\n",
    "    95\n",
    "    102\n",
    "    117\n",
    "    150\n",
    "    182\n",
    "    127\n",
    "    219\n",
    "    299\n",
    "    277\n",
    "    309\n",
    "    576\n",
    "\n",
    "In this list, adding up all of the numbers from 15 through 40 produces the invalid number from step 1, 127. (Of course, the contiguous set of numbers in your actual list might be much longer.)\n",
    "\n",
    "To find the encryption weakness, add together the smallest and largest number in this contiguous range; in this example, these are 15 and 47, producing 62.\n",
    "\n",
    "What is the encryption weakness in your XMAS-encrypted list of numbers?"
   ]
  },
  {
   "cell_type": "code",
   "execution_count": 3,
   "metadata": {},
   "outputs": [
    {
     "name": "stdout",
     "output_type": "stream",
     "text": [
      "Part two answer: 5453868\n"
     ]
    }
   ],
   "source": [
    "def find_weakness(data, invalid_num):\n",
    "    for i in range(0, len(data)):\n",
    "        j = 1\n",
    "        answer = data[i]\n",
    "        answer_arr = [data[i]]\n",
    "        while (answer < invalid_num):\n",
    "            answer_arr.append(data[i+j])\n",
    "            answer = answer + data[i+j]\n",
    "            if answer == invalid_num:\n",
    "                return max(answer_arr) + min(answer_arr)\n",
    "            else:\n",
    "                j += 1\n",
    "                \n",
    "data = read_file_to_arry()\n",
    "part_two_answer = find_weakness(data, part_one_answer)\n",
    "print(\"Part two answer: \" + str(part_two_answer))\n"
   ]
  }
 ],
 "metadata": {
  "kernelspec": {
   "display_name": "Python 3",
   "language": "python",
   "name": "python3"
  },
  "language_info": {
   "codemirror_mode": {
    "name": "ipython",
    "version": 3
   },
   "file_extension": ".py",
   "mimetype": "text/x-python",
   "name": "python",
   "nbconvert_exporter": "python",
   "pygments_lexer": "ipython3",
   "version": "3.8.2"
  }
 },
 "nbformat": 4,
 "nbformat_minor": 4
}
