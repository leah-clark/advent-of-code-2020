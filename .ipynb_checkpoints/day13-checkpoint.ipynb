{
 "cells": [
  {
   "cell_type": "markdown",
   "metadata": {},
   "source": [
    "--- Day 13: Shuttle Search ---\n",
    "    \n",
    "Your ferry can make it safely to a nearby port, but it won't get much further. When you call to book another ship, you discover that no ships embark from that port to your vacation island. You'll need to get from the port to the nearest airport.\n",
    "\n",
    "Fortunately, a shuttle bus service is available to bring you from the sea port to the airport! Each bus has an ID number that also indicates how often the bus leaves for the airport.\n",
    "\n",
    "Bus schedules are defined based on a timestamp that measures the number of minutes since some fixed reference point in the past. At timestamp 0, every bus simultaneously departed from the sea port. After that, each bus travels to the airport, then various other locations, and finally returns to the sea port to repeat its journey forever.\n",
    "\n",
    "The time this loop takes a particular bus is also its ID number: the bus with ID 5 departs from the sea port at timestamps 0, 5, 10, 15, and so on. The bus with ID 11 departs at 0, 11, 22, 33, and so on. If you are there when the bus departs, you can ride that bus to the airport!\n",
    "\n",
    "Your notes (your puzzle input) consist of two lines. The first line is your estimate of the earliest timestamp you could depart on a bus. The second line lists the bus IDs that are in service according to the shuttle company; entries that show x must be out of service, so you decide to ignore them.\n",
    "\n",
    "To save time once you arrive, your goal is to figure out the earliest bus you can take to the airport. (There will be exactly one such bus.)\n",
    "\n",
    "For example, suppose you have the following notes:\n",
    "\n",
    "    939\n",
    "    7,13,x,x,59,x,31,19\n",
    "\n",
    "Here, the earliest timestamp you could depart is 939, and the bus IDs in service are 7, 13, 59, 31, and 19. Near timestamp 939, these bus IDs depart at the times marked D:\n",
    "\n",
    "    time   bus 7   bus 13  bus 59  bus 31  bus 19\n",
    "    929      .       .       .       .       .\n",
    "    930      .       .       .       D       .\n",
    "    931      D       .       .       .       D\n",
    "    932      .       .       .       .       .\n",
    "    933      .       .       .       .       .\n",
    "    934      .       .       .       .       .\n",
    "    935      .       .       .       .       .\n",
    "    936      .       D       .       .       .\n",
    "    937      .       .       .       .       .\n",
    "    938      D       .       .       .       .\n",
    "    939      .       .       .       .       .\n",
    "    940      .       .       .       .       .\n",
    "    941      .       .       .       .       .\n",
    "    942      .       .       .       .       .\n",
    "    943      .       .       .       .       .\n",
    "    944      .       .       D       .       .\n",
    "    945      D       .       .       .       .\n",
    "    946      .       .       .       .       .\n",
    "    947      .       .       .       .       .\n",
    "    948      .       .       .       .       .\n",
    "    949      .       D       .       .       .\n",
    "\n",
    "The earliest bus you could take is bus ID 59. It doesn't depart until timestamp 944, so you would need to wait 944 - 939 = 5 minutes before it departs. Multiplying the bus ID by the number of minutes you'd need to wait gives 295.\n",
    "\n",
    "What is the ID of the earliest bus you can take to the airport multiplied by the number of minutes you'll need to wait for that bus?"
   ]
  },
  {
   "cell_type": "code",
   "execution_count": 1,
   "metadata": {},
   "outputs": [],
   "source": [
    "def read_file_to_arry():\n",
    "    file1 = open('data/examples/day13.txt', 'r') \n",
    "    Lines = file1.readlines()\n",
    "    data = []\n",
    "    for line in Lines:\n",
    "        data.append(line.rstrip('\\n'))\n",
    "    return data"
   ]
  },
  {
   "cell_type": "code",
   "execution_count": 2,
   "metadata": {},
   "outputs": [],
   "source": [
    "data = read_file_to_arry()"
   ]
  },
  {
   "cell_type": "code",
   "execution_count": 12,
   "metadata": {},
   "outputs": [],
   "source": [
    "timestamp = int(data[0])\n",
    "schedule = data[1].split(',')"
   ]
  },
  {
   "cell_type": "code",
   "execution_count": 13,
   "metadata": {},
   "outputs": [
    {
     "data": {
      "text/plain": [
       "['7', '13', 'x', 'x', '59', 'x', '31', '19']"
      ]
     },
     "execution_count": 13,
     "metadata": {},
     "output_type": "execute_result"
    }
   ],
   "source": [
    "schedule"
   ]
  },
  {
   "cell_type": "code",
   "execution_count": 23,
   "metadata": {},
   "outputs": [
    {
     "name": "stdout",
     "output_type": "stream",
     "text": [
      "135\n",
      "73\n",
      "16\n",
      "16\n",
      "16\n"
     ]
    }
   ],
   "source": [
    "\n",
    "class TimeTable:\n",
    "    def __init__(self):\n",
    "        self.lowest = 1\n",
    "        self.bus = None\n",
    "        self.rounded = 1\n",
    "\n",
    "import math \n",
    "timetable = TimeTable()\n",
    "for bus in schedule:\n",
    "    if (bus != 'x'):\n",
    "        arrival_time =  timestamp/int(bus)\n",
    "        diff = math.ceil(arrival_time)-arrival_time\n",
    "        if timetable.lowest > diff:\n",
    "            timetable.lowest = diff\n",
    "            timetable.bus = bus\n",
    "            timetable.rounded = math.ceil(arrival_time)\n",
    "        print(timetable.rounded)"
   ]
  },
  {
   "cell_type": "code",
   "execution_count": 17,
   "metadata": {},
   "outputs": [
    {
     "data": {
      "text/plain": [
       "2"
      ]
     },
     "execution_count": 17,
     "metadata": {},
     "output_type": "execute_result"
    }
   ],
   "source": [
    "import math \n",
    "math.ceil(1.1)"
   ]
  },
  {
   "cell_type": "code",
   "execution_count": null,
   "metadata": {},
   "outputs": [],
   "source": []
  }
 ],
 "metadata": {
  "kernelspec": {
   "display_name": "Python 3",
   "language": "python",
   "name": "python3"
  },
  "language_info": {
   "codemirror_mode": {
    "name": "ipython",
    "version": 3
   },
   "file_extension": ".py",
   "mimetype": "text/x-python",
   "name": "python",
   "nbconvert_exporter": "python",
   "pygments_lexer": "ipython3",
   "version": "3.8.2"
  }
 },
 "nbformat": 4,
 "nbformat_minor": 4
}
