{
 "cells": [
  {
   "cell_type": "markdown",
   "metadata": {},
   "source": [
    "--- Day 8: Handheld Halting ---\n",
    "    \n",
    "Your flight to the major airline hub reaches cruising altitude without incident. While you consider checking the in-flight menu for one of those drinks that come with a little umbrella, you are interrupted by the kid sitting next to you.\n",
    "\n",
    "Their handheld game console won't turn on! They ask if you can take a look.\n",
    "\n",
    "You narrow the problem down to a strange infinite loop in the boot code (your puzzle input) of the device. You should be able to fix it, but first you need to be able to run the code in isolation.\n",
    "\n",
    "The boot code is represented as a text file with one instruction per line of text. Each instruction consists of an operation (acc, jmp, or nop) and an argument (a signed number like +4 or -20).\n",
    "\n",
    "acc increases or decreases a single global value called the accumulator by the value given in the argument. For example, acc +7 would increase the accumulator by 7. The accumulator starts at 0. After an acc instruction, the instruction immediately below it is executed next.\n",
    "jmp jumps to a new instruction relative to itself. The next instruction to execute is found using the argument as an offset from the jmp instruction; for example, jmp +2 would skip the next instruction, jmp +1 would continue to the instruction immediately below it, and jmp -20 would cause the instruction 20 lines above to be executed next.\n",
    "nop stands for No OPeration - it does nothing. The instruction immediately below it is executed next.\n",
    "For example, consider the following program:\n",
    "\n",
    "    nop +0\n",
    "    acc +1\n",
    "    jmp +4\n",
    "    acc +3\n",
    "    jmp -3\n",
    "    acc -99\n",
    "    acc +1\n",
    "    jmp -4\n",
    "    acc +6\n",
    "\n",
    "These instructions are visited in this order:\n",
    "\n",
    "    nop +0  | 1\n",
    "    acc +1  | 2, 8(!)\n",
    "    jmp +4  | 3\n",
    "    acc +3  | 6\n",
    "    jmp -3  | 7\n",
    "    acc -99 |\n",
    "    acc +1  | 4\n",
    "    jmp -4  | 5\n",
    "    acc +6  |\n",
    "\n",
    "First, the nop +0 does nothing. Then, the accumulator is increased from 0 to 1 (acc +1) and jmp +4 sets the next instruction to the other acc +1 near the bottom. After it increases the accumulator from 1 to 2, jmp -4 executes, setting the next instruction to the only acc +3. It sets the accumulator to 5, and jmp -3 causes the program to continue back at the first acc +1.\n",
    "\n",
    "This is an infinite loop: with this sequence of jumps, the program will run forever. The moment the program tries to run any instruction a second time, you know it will never terminate.\n",
    "\n",
    "Immediately before the program would run an instruction a second time, the value in the accumulator is 5.\n",
    "\n",
    "Run your copy of the boot code. Immediately before any instruction is executed a second time, what value is in the accumulator?"
   ]
  },
  {
   "cell_type": "code",
   "execution_count": 138,
   "metadata": {},
   "outputs": [],
   "source": [
    "\n",
    "def read_file_to_arry():\n",
    "    file1 = open('data/day8.txt', 'r') \n",
    "    Lines = file1.readlines()\n",
    "    instructions = []\n",
    "    for line in Lines:\n",
    "        instr = line.rstrip('\\n').split(' ')\n",
    "        instr.append(0)\n",
    "        instructions.append(instr)\n",
    "    return instructions"
   ]
  },
  {
   "cell_type": "code",
   "execution_count": 64,
   "metadata": {},
   "outputs": [
    {
     "name": "stdout",
     "output_type": "stream",
     "text": [
      "Part one answer: 1217\n"
     ]
    }
   ],
   "source": [
    "def break_loop(instructions):\n",
    "    acc = 0\n",
    "    i = 0\n",
    "    while (not instructions[i][2]):\n",
    "        if (instructions[i][0] == 'acc'):\n",
    "            acc += int(instructions[i][1])\n",
    "            instructions[i][2] = 1\n",
    "            i += 1\n",
    "        elif (instructions[i][0] == 'jmp'):\n",
    "            instructions[i][2] = 1\n",
    "            i += int(instructions[i][1])\n",
    "        else:\n",
    "            i += 1\n",
    "    return acc\n",
    "\n",
    "instructions = read_file_to_arry()\n",
    "part_one_answer = break_loop(instructions)\n",
    "print(\"Part one answer: \" + str(part_one_answer))"
   ]
  },
  {
   "cell_type": "markdown",
   "metadata": {},
   "source": [
    "--- Part Two ---\n",
    "\n",
    "After some careful analysis, you believe that exactly one instruction is corrupted.\n",
    "\n",
    "Somewhere in the program, either a jmp is supposed to be a nop, or a nop is supposed to be a jmp. (No acc instructions were harmed in the corruption of this boot code.)\n",
    "\n",
    "The program is supposed to terminate by attempting to execute an instruction immediately after the last instruction in the file. By changing exactly one jmp or nop, you can repair the boot code and make it terminate correctly.\n",
    "\n",
    "For example, consider the same program from above:\n",
    "\n",
    "    nop +0\n",
    "    acc +1\n",
    "    jmp +4\n",
    "    acc +3\n",
    "    jmp -3\n",
    "    acc -99\n",
    "    acc +1\n",
    "    jmp -4\n",
    "    acc +6\n",
    "\n",
    "If you change the first instruction from nop +0 to jmp +0, it would create a single-instruction infinite loop, never leaving that instruction. If you change almost any of the jmp instructions, the program will still eventually find another jmp instruction and loop forever.\n",
    "\n",
    "However, if you change the second-to-last instruction (from jmp -4 to nop -4), the program terminates! The instructions are visited in this order:\n",
    "\n",
    "    nop +0  | 1\n",
    "    acc +1  | 2\n",
    "    jmp +4  | 3\n",
    "    acc +3  |\n",
    "    jmp -3  |\n",
    "    acc -99 |\n",
    "    acc +1  | 4\n",
    "    nop -4  | 5\n",
    "    acc +6  | 6\n",
    "\n",
    "After the last instruction (acc +6), the program terminates by attempting to run the instruction below the last instruction in the file. With this change, after the program terminates, the accumulator contains the value 8 (acc +1, acc +1, acc +6).\n",
    "\n",
    "Fix the program so that it terminates normally by changing exactly one jmp (to nop) or nop (to jmp). What is the value of the accumulator after the program terminates?"
   ]
  },
  {
   "cell_type": "code",
   "execution_count": 139,
   "metadata": {},
   "outputs": [
    {
     "name": "stdout",
     "output_type": "stream",
     "text": [
      "Part one answer: 501\n"
     ]
    }
   ],
   "source": [
    "def break_loop(instructions):\n",
    "    acc = 0\n",
    "    i = 0\n",
    "    while (len(instructions) > i):\n",
    "        if (instructions[i][2]):\n",
    "            instructions = read_file_to_arry()\n",
    "            return acc, 'break', instructions\n",
    "        elif (instructions[i][0] == 'acc'):\n",
    "            acc += int(instructions[i][1])\n",
    "            instructions[i][2] = 1\n",
    "            i += 1\n",
    "        elif (instructions[i][0] == 'jmp'):\n",
    "            instructions[i][2] = 1\n",
    "            i += int(instructions[i][1])\n",
    "        else:\n",
    "            instructions[i][2] = 1\n",
    "            i += 1\n",
    "    return acc, 'terminated', instructions\n",
    "\n",
    "def find_problem():\n",
    "    instructions = read_file_to_arry()\n",
    "    for i in range(0, len(instructions)):\n",
    "        if (instructions[i][0] == 'nop'):\n",
    "            instructions[i][0] = 'jmp'\n",
    "            acc, result, instructions = break_loop(instructions)\n",
    "            if (result == 'terminated'):\n",
    "                return acc\n",
    "        elif (instructions[i][0] == 'jmp'):\n",
    "            instructions[i][0] = 'nop'\n",
    "            acc, result, instructions = break_loop(instructions)\n",
    "            if (result == 'terminated'):\n",
    "                return acc\n",
    "    return acc\n",
    "\n",
    "part_one_answer = find_problem()\n",
    "print(\"Part one answer: \" + str(part_one_answer))"
   ]
  },
  {
   "cell_type": "code",
   "execution_count": 142,
   "metadata": {},
   "outputs": [
    {
     "data": {
      "text/plain": [
       "True"
      ]
     },
     "execution_count": 142,
     "metadata": {},
     "output_type": "execute_result"
    }
   ],
   "source": [
    "def unit_test(instructions):\n",
    "    answer = break_loop(instructions)\n",
    "    if (answer[1] == 'terminated' and answer[0] == 8):\n",
    "        return True\n",
    "    else:\n",
    "        return False\n",
    "\n",
    "instructions = [['nop', '+0', 0], ['acc', '+1', 0], ['jmp', '+4', 0], ['acc', '+3', 0], ['jmp', '-3', 0], ['acc', '-99', 0], ['acc', '+1', 0], ['nop', '-4', 0], ['acc', '+6', 0]]\n",
    "unit_test(instructions)"
   ]
  },
  {
   "cell_type": "code",
   "execution_count": null,
   "metadata": {},
   "outputs": [],
   "source": []
  }
 ],
 "metadata": {
  "kernelspec": {
   "display_name": "Python 3",
   "language": "python",
   "name": "python3"
  },
  "language_info": {
   "codemirror_mode": {
    "name": "ipython",
    "version": 3
   },
   "file_extension": ".py",
   "mimetype": "text/x-python",
   "name": "python",
   "nbconvert_exporter": "python",
   "pygments_lexer": "ipython3",
   "version": "3.8.2"
  }
 },
 "nbformat": 4,
 "nbformat_minor": 4
}
