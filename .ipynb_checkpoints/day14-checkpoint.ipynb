{
 "cells": [
  {
   "cell_type": "markdown",
   "metadata": {},
   "source": [
    "--- Day 14: Docking Data ---\n",
    "    \n",
    "As your ferry approaches the sea port, the captain asks for your help again. The computer system that runs this port isn't compatible with the docking program on the ferry, so the docking parameters aren't being correctly initialized in the docking program's memory.\n",
    "\n",
    "After a brief inspection, you discover that the sea port's computer system uses a strange bitmask system in its initialization program. Although you don't have the correct decoder chip handy, you can emulate it in software!\n",
    "\n",
    "The initialization program (your puzzle input) can either update the bitmask or write a value to memory. Values and memory addresses are both 36-bit unsigned integers. For example, ignoring bitmasks for a moment, a line like mem[8] = 11 would write the value 11 to memory address 8.\n",
    "\n",
    "The bitmask is always given as a string of 36 bits, written with the most significant bit (representing 2^35) on the left and the least significant bit (2^0, that is, the 1s bit) on the right. The current bitmask is applied to values immediately before they are written to memory: a 0 or 1 overwrites the corresponding bit in the value, while an X leaves the bit in the value unchanged.\n",
    "\n",
    "For example, consider the following program:\n",
    "\n",
    "    mask = XXXXXXXXXXXXXXXXXXXXXXXXXXXXX1XXXX0X\n",
    "    mem[8] = 11\n",
    "    mem[7] = 101\n",
    "    mem[8] = 0\n",
    "\n",
    "This program starts by specifying a bitmask (mask = ....). The mask it specifies will overwrite two bits in every written value: the 2s bit is overwritten with 0, and the 64s bit is overwritten with 1.\n",
    "\n",
    "The program then attempts to write the value 11 to memory address 8. By expanding everything out to individual bits, the mask is applied as follows:\n",
    "\n",
    "    value:  000000000000000000000000000000001011  (decimal 11)\n",
    "    mask:   XXXXXXXXXXXXXXXXXXXXXXXXXXXXX1XXXX0X\n",
    "    result: 000000000000000000000000000001001001  (decimal 73)\n",
    "\n",
    "So, because of the mask, the value 73 is written to memory address 8 instead. Then, the program tries to write 101 to address 7:\n",
    "\n",
    "    value:  000000000000000000000000000001100101  (decimal 101)\n",
    "    mask:   XXXXXXXXXXXXXXXXXXXXXXXXXXXXX1XXXX0X\n",
    "    result: 000000000000000000000000000001100101  (decimal 101)\n",
    "\n",
    "This time, the mask has no effect, as the bits it overwrote were already the values the mask tried to set. Finally, the program tries to write 0 to address 8:\n",
    "\n",
    "    value:  000000000000000000000000000000000000  (decimal 0)\n",
    "    mask:   XXXXXXXXXXXXXXXXXXXXXXXXXXXXX1XXXX0X\n",
    "    result: 000000000000000000000000000001000000  (decimal 64)\n",
    "\n",
    "64 is written to address 8 instead, overwriting the value that was there previously.\n",
    "\n",
    "To initialize your ferry's docking program, you need the sum of all values left in memory after the initialization program completes. (The entire 36-bit address space begins initialized to the value 0 at every address.) In the above example, only two values in memory are not zero - 101 (at address 7) and 64 (at address 8) - producing a sum of 165.\n",
    "\n",
    "Execute the initialization program. What is the sum of all values left in memory after it completes?"
   ]
  },
  {
   "cell_type": "code",
   "execution_count": 56,
   "metadata": {},
   "outputs": [],
   "source": [
    "def read_file_to_arry():\n",
    "    file1 = open('data/day14.txt', 'r') \n",
    "    Lines = file1.readlines()\n",
    "    data = []\n",
    "    for line in Lines:\n",
    "        data.append(line.rstrip('\\n').split(' = '))\n",
    "    return data\n",
    "\n",
    "data = read_file_to_arry()"
   ]
  },
  {
   "cell_type": "code",
   "execution_count": 2,
   "metadata": {},
   "outputs": [
    {
     "name": "stdout",
     "output_type": "stream",
     "text": [
      "Part one answer: 165\n"
     ]
    }
   ],
   "source": [
    "import re\n",
    "\n",
    "class Memory:\n",
    "    def __init__(self):\n",
    "        self.kv = {}\n",
    "        \n",
    "    def add(self, address, value):\n",
    "        self.kv[address] = value\n",
    "        \n",
    "    def sum_values(self):\n",
    "        out = 0\n",
    "        for k,v in self.kv.items():\n",
    "            out += int(v)\n",
    "        return out\n",
    "    \n",
    "def flip_bits(mask, address, value):\n",
    "    bitstr = f'{value:036b}'\n",
    "    mask_list = list(mask)\n",
    "    bits_list = list(bitstr)\n",
    "\n",
    "    for i in range(0, len(mask_list)):\n",
    "        if (mask_list[i] != 'X'):\n",
    "            bits_list[i] = mask_list[i]\n",
    "    return int(''.join(bits_list),2)\n",
    "\n",
    "def apply(data):\n",
    "    mask = ''\n",
    "    memory = Memory()\n",
    "    for instr in data:\n",
    "        if (instr[0] == 'mask'):\n",
    "            mask = instr[1]\n",
    "        else:\n",
    "            address = re.findall(\"\\d+\", instr[0])[0]\n",
    "            value = int(instr[1])\n",
    "            new_value = flip_bits(mask, address, value)\n",
    "            memory.add(address, new_value)\n",
    "\n",
    "    return memory.sum_values()\n",
    "    \n",
    "data = read_file_to_arry()\n",
    "part_one_answer = apply(data)\n",
    "print(\"Part one answer: \" + str(part_one_answer))"
   ]
  },
  {
   "cell_type": "markdown",
   "metadata": {},
   "source": [
    "--- Part Two ---\n",
    "\n",
    "For some reason, the sea port's computer system still can't communicate with your ferry's docking program. It must be using version 2 of the decoder chip!\n",
    "\n",
    "A version 2 decoder chip doesn't modify the values being written at all. Instead, it acts as a memory address decoder. Immediately before a value is written to memory, each bit in the bitmask modifies the corresponding bit of the destination memory address in the following way:\n",
    "\n",
    "If the bitmask bit is 0, the corresponding memory address bit is unchanged.\n",
    "If the bitmask bit is 1, the corresponding memory address bit is overwritten with 1.\n",
    "If the bitmask bit is X, the corresponding memory address bit is floating.\n",
    "A floating bit is not connected to anything and instead fluctuates unpredictably. In practice, this means the floating bits will take on all possible values, potentially causing many memory addresses to be written all at once!\n",
    "\n",
    "For example, consider the following program:\n",
    "\n",
    "    mask = 000000000000000000000000000000X1001X\n",
    "    mem[42] = 100\n",
    "    mask = 00000000000000000000000000000000X0XX\n",
    "    mem[26] = 1\n",
    "\n",
    "When this program goes to write to memory address 42, it first applies the bitmask:\n",
    "\n",
    "    address: 000000000000000000000000000000101010  (decimal 42)\n",
    "    mask:    000000000000000000000000000000X1001X\n",
    "    result:  000000000000000000000000000000X1101X\n",
    "\n",
    "After applying the mask, four bits are overwritten, three of which are different, and two of which are floating. Floating bits take on every possible combination of values; with two floating bits, four actual memory addresses are written:\n",
    "\n",
    "    000000000000000000000000000000011010  (decimal 26)\n",
    "    000000000000000000000000000000011011  (decimal 27)\n",
    "    000000000000000000000000000000111010  (decimal 58)\n",
    "    000000000000000000000000000000111011  (decimal 59)\n",
    "\n",
    "Next, the program is about to write to memory address 26 with a different bitmask:\n",
    "\n",
    "    address: 000000000000000000000000000000011010  (decimal 26)\n",
    "    mask:    00000000000000000000000000000000X0XX\n",
    "    result:  00000000000000000000000000000001X0XX\n",
    "\n",
    "This results in an address with three floating bits, causing writes to eight memory addresses:\n",
    "\n",
    "    000000000000000000000000000000010000  (decimal 16)\n",
    "    000000000000000000000000000000010001  (decimal 17)\n",
    "    000000000000000000000000000000010010  (decimal 18)\n",
    "    000000000000000000000000000000010011  (decimal 19)\n",
    "    000000000000000000000000000000011000  (decimal 24)\n",
    "    000000000000000000000000000000011001  (decimal 25)\n",
    "    000000000000000000000000000000011010  (decimal 26)\n",
    "    000000000000000000000000000000011011  (decimal 27)\n",
    "\n",
    "The entire 36-bit address space still begins initialized to the value 0 at every address, and you still need the sum of all values left in memory at the end of the program. In this example, the sum is 208.\n",
    "\n",
    "Execute the initialization program using an emulator for a version 2 decoder chip. What is the sum of all values left in memory after it completes?"
   ]
  },
  {
   "cell_type": "code",
   "execution_count": 57,
   "metadata": {},
   "outputs": [
    {
     "name": "stdout",
     "output_type": "stream",
     "text": [
      "Part two answer: 186762709859\n"
     ]
    }
   ],
   "source": [
    "import re\n",
    "\n",
    "class Memory:\n",
    "    def __init__(self):\n",
    "        self.kv = {}\n",
    "        \n",
    "    def add(self, address, value):\n",
    "        self.kv[address] = value\n",
    "        \n",
    "    def sum_values(self):\n",
    "        out = 0\n",
    "        for k,v in self.kv.items():\n",
    "            out += int(v)\n",
    "        return out\n",
    "    \n",
    "def find_floating(mask, address):\n",
    "    bitstr = f'{address:036b}'\n",
    "    mask_list = list(mask)\n",
    "    bits_list = list(bitstr)\n",
    "    floating = []\n",
    "    base = []\n",
    "\n",
    "    for i in range(0, len(mask_list)):\n",
    "        if (mask_list[i] == 'X'):\n",
    "            floating.append(pow(i,2))\n",
    "        elif(mask_list[i] == '1' or bits_list[i] == '1'):\n",
    "            base.append(pow(i, 2))\n",
    "    return floating, sum(base)\n",
    "\n",
    "def find_addresses(floating, base):\n",
    "    addresses = []\n",
    "    bits = powerset(floating)\n",
    "    for bit in bits:\n",
    "        if (bit == []):\n",
    "            addresses.append(base)\n",
    "        else:\n",
    "            addition = 0\n",
    "            for b in bit:\n",
    "                addition += b\n",
    "            addresses.append(base+addition)\n",
    "    return addresses\n",
    "    \n",
    "\n",
    "def apply2(data):\n",
    "    mask = ''\n",
    "    memory = Memory()\n",
    "    for instr in data:\n",
    "        if (instr[0] == 'mask'):\n",
    "            mask = instr[1]\n",
    "        else:\n",
    "            address = int(re.findall(\"\\d+\", instr[0])[0])\n",
    "            value = int(instr[1])\n",
    "            floating, base = find_floating(mask, address)\n",
    "            addresses = find_addresses(floating, base)\n",
    "            for new_address in addresses:\n",
    "                memory.add(new_address, value)\n",
    "\n",
    "    return memory.sum_values()\n",
    "    \n",
    "data = read_file_to_arry()\n",
    "part_two_answer = apply2(data)\n",
    "print(\"Part two answer: \" + str(part_two_answer))"
   ]
  },
  {
   "cell_type": "code",
   "execution_count": 37,
   "metadata": {},
   "outputs": [],
   "source": [
    "from itertools import chain, combinations\n",
    "\n",
    "def powerset(s):\n",
    "    x = len(s)\n",
    "    masks = [1 << i for i in range(x)]\n",
    "    for i in range(1 << x):\n",
    "        yield [ss for mask, ss in zip(masks, s) if i & mask]"
   ]
  },
  {
   "cell_type": "code",
   "execution_count": 40,
   "metadata": {},
   "outputs": [
    {
     "data": {
      "text/plain": [
       "[[], [1], [32], [1, 32]]"
      ]
     },
     "execution_count": 40,
     "metadata": {},
     "output_type": "execute_result"
    }
   ],
   "source": [
    "out = [1, 32]\n",
    "\n",
    "\n",
    "list(powerset([1,32]))\n"
   ]
  },
  {
   "cell_type": "code",
   "execution_count": 39,
   "metadata": {},
   "outputs": [
    {
     "data": {
      "text/plain": [
       "[]"
      ]
     },
     "execution_count": 39,
     "metadata": {},
     "output_type": "execute_result"
    }
   ],
   "source": [
    "ou[0]"
   ]
  },
  {
   "cell_type": "code",
   "execution_count": 36,
   "metadata": {},
   "outputs": [
    {
     "data": {
      "text/plain": [
       "(1,)"
      ]
     },
     "execution_count": 36,
     "metadata": {},
     "output_type": "execute_result"
    }
   ],
   "source": [
    "ou[1]"
   ]
  },
  {
   "cell_type": "code",
   "execution_count": null,
   "metadata": {},
   "outputs": [],
   "source": []
  }
 ],
 "metadata": {
  "kernelspec": {
   "display_name": "Python 3",
   "language": "python",
   "name": "python3"
  },
  "language_info": {
   "codemirror_mode": {
    "name": "ipython",
    "version": 3
   },
   "file_extension": ".py",
   "mimetype": "text/x-python",
   "name": "python",
   "nbconvert_exporter": "python",
   "pygments_lexer": "ipython3",
   "version": "3.8.2"
  }
 },
 "nbformat": 4,
 "nbformat_minor": 4
}
