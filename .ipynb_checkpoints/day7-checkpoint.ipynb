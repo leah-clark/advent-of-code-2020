{
 "cells": [
  {
   "cell_type": "markdown",
   "metadata": {},
   "source": [
    "--- Day 7: Handy Haversacks ---\n",
    "\n",
    "You land at the regional airport in time for your next flight. In fact, it looks like you'll even have time to grab some food: all flights are currently delayed due to issues in luggage processing.\n",
    "\n",
    "Due to recent aviation regulations, many rules (your puzzle input) are being enforced about bags and their contents; bags must be color-coded and must contain specific quantities of other color-coded bags. Apparently, nobody responsible for these regulations considered how long they would take to enforce!\n",
    "\n",
    "For example, consider the following rules:\n",
    "\n",
    "    light red bags contain 1 bright white bag, 2 muted yellow bags.\n",
    "    dark orange bags contain 3 bright white bags, 4 muted yellow bags.\n",
    "    bright white bags contain 1 shiny gold bag.\n",
    "    muted yellow bags contain 2 shiny gold bags, 9 faded blue bags.\n",
    "    shiny gold bags contain 1 dark olive bag, 2 vibrant plum bags.\n",
    "    dark olive bags contain 3 faded blue bags, 4 dotted black bags.\n",
    "    vibrant plum bags contain 5 faded blue bags, 6 dotted black bags.\n",
    "    faded blue bags contain no other bags.\n",
    "    dotted black bags contain no other bags.\n",
    "\n",
    "These rules specify the required contents for 9 bag types. In this example, every faded blue bag is empty, every vibrant plum bag contains 11 bags (5 faded blue and 6 dotted black), and so on.\n",
    "\n",
    "You have a shiny gold bag. If you wanted to carry it in at least one other bag, how many different bag colors would be valid for the outermost bag? (In other words: how many colors can, eventually, contain at least one shiny gold bag?)\n",
    "\n",
    "In the above rules, the following options would be available to you:\n",
    "\n",
    "    A bright white bag, which can hold your shiny gold bag directly.\n",
    "    A muted yellow bag, which can hold your shiny gold bag directly, plus some other bags.\n",
    "    A dark orange bag, which can hold bright white and muted yellow bags, either of which could then hold your shiny gold bag.\n",
    "    A light red bag, which can hold bright white and muted yellow bags, either of which could then hold your shiny gold bag.\n",
    "    So, in this example, the number of bag colors that can eventually contain at least one shiny gold bag is 4.\n",
    "\n",
    "How many bag colors can eventually contain at least one shiny gold bag? (The list of rules is quite long; make sure you get all of it.)"
   ]
  },
  {
   "cell_type": "code",
   "execution_count": 643,
   "metadata": {},
   "outputs": [],
   "source": [
    "# add the example data \n",
    "\n",
    "import re\n",
    "\n",
    "def read_file_to_arry():\n",
    "    file1 = open('data/examples/day7.txt', 'r') \n",
    "    Lines = file1.readlines()\n",
    "    rules = []\n",
    "    for line in Lines:\n",
    "        rules.append(line.rstrip('\\n'))\n",
    "    return rules\n",
    "\n",
    "# parse to a dictionary for O(1) lookup - \n",
    "\n",
    "def parse_to_dictionary():\n",
    "    rules = read_file_to_arry()\n",
    "    rules_dic = {}\n",
    "    for rule in rules:\n",
    "        bags = re.compile(\" contain|, \").split(rule)\n",
    "        bag_list = []\n",
    "        for bag in bags:\n",
    "            num = re.findall('\\d', bag)\n",
    "            if (num):\n",
    "                num = int(num[0])\n",
    "            else:\n",
    "                num = 0\n",
    "            bag_list.append((re.sub('bags|\\\\.|bag|\\d| ', '', bag), num))\n",
    "        rules_dic[bag_list[0][0]] = bag_list[1:]\n",
    "    return rules_dic\n",
    "\n",
    "rules_dic = parse_to_dictionary()"
   ]
  },
  {
   "cell_type": "code",
   "execution_count": 632,
   "metadata": {},
   "outputs": [],
   "source": [
    "class Node(object):\n",
    "    def __init__(self, name, value):\n",
    "        self.name = name\n",
    "        self.value = value\n",
    "        self.children = []\n",
    "    def add_child(self, obj):\n",
    "        self.children.append(obj)\n",
    "    def __str__(self, level=0):\n",
    "        ret = \"\\t\"*level+repr(self.name)+repr(self.value)+\"\\n\"\n",
    "        for child in self.children:\n",
    "            ret += child.__str__(level+1)\n",
    "        return ret\n",
    "\n",
    "    def __repr__(self):\n",
    "        return '<tree node representation>'\n",
    "\n",
    "def build_tree(node):\n",
    "    children = rules_dic[node.name]\n",
    "    if (len(children) == 1 and children[0][0] == 'noother'):\n",
    "        #node.add_child(Node(children[0][0], children[0][1]))\n",
    "        return node\n",
    "    else:\n",
    "        for child in children:\n",
    "            node.add_child(build_tree(Node(child[0], child[1])))\n",
    "    return node\n"
   ]
  },
  {
   "cell_type": "code",
   "execution_count": 633,
   "metadata": {},
   "outputs": [
    {
     "name": "stdout",
     "output_type": "stream",
     "text": [
      "Part one answer: 0\n"
     ]
    }
   ],
   "source": [
    "def search_tree(node, key, result):\n",
    "    result = []\n",
    "    if (node.name == key):\n",
    "        result.append(1)\n",
    "    for child in node.children:\n",
    "        result.extend(search_tree(child, key, result))\n",
    "    return result\n",
    "\n",
    "def search_bag(rules_dic):\n",
    "    count_shiny_gold_bags = 0\n",
    "    for key in rules_dic:\n",
    "        if (key != 'shinygold'):\n",
    "            tree = build_tree(Node(key, 1))\n",
    "            count = len(search_tree(tree, 'shinygold', []))\n",
    "            if (count > 0):\n",
    "                count_shiny_gold_bags += 1\n",
    "    return count_shiny_gold_bags\n",
    "        \n",
    "part_one_answer = search_bag(rules_dic)\n",
    "print(\"Part one answer: \" + str(part_one_answer))"
   ]
  },
  {
   "cell_type": "code",
   "execution_count": 342,
   "metadata": {},
   "outputs": [
    {
     "data": {
      "text/plain": [
       "['8']"
      ]
     },
     "execution_count": 342,
     "metadata": {},
     "output_type": "execute_result"
    }
   ],
   "source": [
    "re.findall('\\d', 'diahdi8')"
   ]
  },
  {
   "cell_type": "code",
   "execution_count": 668,
   "metadata": {},
   "outputs": [
    {
     "name": "stdout",
     "output_type": "stream",
     "text": [
      "hi\n",
      "hi\n",
      "hi\n",
      "hi\n",
      "hi\n"
     ]
    },
    {
     "ename": "TypeError",
     "evalue": "unsupported operand type(s) for +: 'int' and 'list'",
     "output_type": "error",
     "traceback": [
      "\u001b[1;31m---------------------------------------------------------------------------\u001b[0m",
      "\u001b[1;31mTypeError\u001b[0m                                 Traceback (most recent call last)",
      "\u001b[1;32m<ipython-input-668-27ce1d8b3f90>\u001b[0m in \u001b[0;36m<module>\u001b[1;34m\u001b[0m\n\u001b[0;32m     25\u001b[0m     \u001b[1;32mreturn\u001b[0m \u001b[0mcount\u001b[0m\u001b[1;33m\u001b[0m\u001b[1;33m\u001b[0m\u001b[0m\n\u001b[0;32m     26\u001b[0m \u001b[1;33m\u001b[0m\u001b[0m\n\u001b[1;32m---> 27\u001b[1;33m \u001b[0mpart_two_answer\u001b[0m \u001b[1;33m=\u001b[0m \u001b[0msearch_bag\u001b[0m\u001b[1;33m(\u001b[0m\u001b[0mrules_dic\u001b[0m\u001b[1;33m)\u001b[0m\u001b[1;33m\u001b[0m\u001b[1;33m\u001b[0m\u001b[0m\n\u001b[0m\u001b[0;32m     28\u001b[0m \u001b[0mprint\u001b[0m\u001b[1;33m(\u001b[0m\u001b[1;34m\"Part two answer: \"\u001b[0m \u001b[1;33m+\u001b[0m \u001b[0mstr\u001b[0m\u001b[1;33m(\u001b[0m\u001b[0mpart_two_answer\u001b[0m\u001b[1;33m)\u001b[0m\u001b[1;33m)\u001b[0m\u001b[1;33m\u001b[0m\u001b[1;33m\u001b[0m\u001b[0m\n",
      "\u001b[1;32m<ipython-input-668-27ce1d8b3f90>\u001b[0m in \u001b[0;36msearch_bag\u001b[1;34m(rules_dic)\u001b[0m\n\u001b[0;32m     22\u001b[0m             \u001b[0mtree\u001b[0m \u001b[1;33m=\u001b[0m \u001b[0mbuild_tree\u001b[0m\u001b[1;33m(\u001b[0m\u001b[0mNode\u001b[0m\u001b[1;33m(\u001b[0m\u001b[0mkey\u001b[0m\u001b[1;33m,\u001b[0m \u001b[1;36m1\u001b[0m\u001b[1;33m)\u001b[0m\u001b[1;33m)\u001b[0m\u001b[1;33m\u001b[0m\u001b[1;33m\u001b[0m\u001b[0m\n\u001b[0;32m     23\u001b[0m             \u001b[0mresult\u001b[0m \u001b[1;33m=\u001b[0m \u001b[0mtraverse\u001b[0m\u001b[1;33m(\u001b[0m\u001b[0mtree\u001b[0m\u001b[1;33m,\u001b[0m \u001b[1;33m[\u001b[0m\u001b[1;33m]\u001b[0m\u001b[1;33m)\u001b[0m\u001b[1;33m\u001b[0m\u001b[1;33m\u001b[0m\u001b[0m\n\u001b[1;32m---> 24\u001b[1;33m             \u001b[0mcount\u001b[0m \u001b[1;33m=\u001b[0m \u001b[0mcalculate\u001b[0m\u001b[1;33m(\u001b[0m\u001b[0mresult\u001b[0m\u001b[1;33m)\u001b[0m\u001b[1;33m\u001b[0m\u001b[1;33m\u001b[0m\u001b[0m\n\u001b[0m\u001b[0;32m     25\u001b[0m     \u001b[1;32mreturn\u001b[0m \u001b[0mcount\u001b[0m\u001b[1;33m\u001b[0m\u001b[1;33m\u001b[0m\u001b[0m\n\u001b[0;32m     26\u001b[0m \u001b[1;33m\u001b[0m\u001b[0m\n",
      "\u001b[1;32m<ipython-input-668-27ce1d8b3f90>\u001b[0m in \u001b[0;36mcalculate\u001b[1;34m(result)\u001b[0m\n\u001b[0;32m     14\u001b[0m     \u001b[0moutput\u001b[0m \u001b[1;33m=\u001b[0m \u001b[1;36m0\u001b[0m\u001b[1;33m\u001b[0m\u001b[1;33m\u001b[0m\u001b[0m\n\u001b[0;32m     15\u001b[0m     \u001b[1;32mfor\u001b[0m \u001b[0mt\u001b[0m \u001b[1;32min\u001b[0m \u001b[0mresult\u001b[0m\u001b[1;33m:\u001b[0m\u001b[1;33m\u001b[0m\u001b[1;33m\u001b[0m\u001b[0m\n\u001b[1;32m---> 16\u001b[1;33m         \u001b[0moutput\u001b[0m \u001b[1;33m+=\u001b[0m \u001b[0msum\u001b[0m\u001b[1;33m(\u001b[0m\u001b[0mt\u001b[0m\u001b[1;33m)\u001b[0m\u001b[1;33m\u001b[0m\u001b[1;33m\u001b[0m\u001b[0m\n\u001b[0m\u001b[0;32m     17\u001b[0m     \u001b[1;32mreturn\u001b[0m \u001b[0moutput\u001b[0m\u001b[1;33m\u001b[0m\u001b[1;33m\u001b[0m\u001b[0m\n\u001b[0;32m     18\u001b[0m \u001b[1;33m\u001b[0m\u001b[0m\n",
      "\u001b[1;31mTypeError\u001b[0m: unsupported operand type(s) for +: 'int' and 'list'"
     ]
    }
   ],
   "source": [
    "def traverse(node, result):\n",
    "    children = node.children\n",
    "    if (children == []):\n",
    "        return node.value\n",
    "    else:\n",
    "        if (node.name != 'shinygold'):\n",
    "            result.append(node.value)\n",
    "        for child in node.children:\n",
    "            result.append((traverse(child, []) * node.value))\n",
    "    return result\n",
    "\n",
    "def calculate(result):\n",
    "    output = 0\n",
    "    for t in result:\n",
    "        output += sum(t)\n",
    "    return output\n",
    "    \n",
    "def search_bag(rules_dic):\n",
    "    for key in rules_dic:\n",
    "        if (key == 'shinygold'):\n",
    "            tree = build_tree(Node(key, 1))\n",
    "            result = traverse(tree, [])\n",
    "            count = calculate(result)\n",
    "    return count\n",
    "        \n",
    "part_two_answer = search_bag(rules_dic)\n",
    "print(\"Part two answer: \" + str(part_two_answer))"
   ]
  },
  {
   "cell_type": "code",
   "execution_count": 419,
   "metadata": {},
   "outputs": [
    {
     "data": {
      "text/plain": [
       "32"
      ]
     },
     "execution_count": 419,
     "metadata": {},
     "output_type": "execute_result"
    }
   ],
   "source": [
    "1+1*(3)+1*(4)+2+2*(5)+2*(6)"
   ]
  },
  {
   "cell_type": "raw",
   "metadata": {},
   "source": [
    "1+1*"
   ]
  },
  {
   "cell_type": "code",
   "execution_count": 650,
   "metadata": {},
   "outputs": [],
   "source": [
    " tree = build_tree(Node('shinygold', 1))"
   ]
  },
  {
   "cell_type": "code",
   "execution_count": 669,
   "metadata": {},
   "outputs": [
    {
     "name": "stdout",
     "output_type": "stream",
     "text": [
      "hi\n",
      "hi\n",
      "hi\n",
      "hi\n",
      "hi\n"
     ]
    },
    {
     "data": {
      "text/plain": [
       "[[[[[[4, 4], [4, 4]], [[4, 4], [4, 4]]],\n",
       "   [[[4, 4], [4, 4]], [[4, 4], [4, 4]]]]]]"
      ]
     },
     "execution_count": 669,
     "metadata": {},
     "output_type": "execute_result"
    }
   ],
   "source": [
    "li  = traverse(tree, [])\n",
    "\n",
    "li"
   ]
  },
  {
   "cell_type": "code",
   "execution_count": 537,
   "metadata": {},
   "outputs": [
    {
     "name": "stdout",
     "output_type": "stream",
     "text": [
      "1\n",
      "1\n",
      "'shinygold'1\n",
      "\t'darkolive'1\n",
      "\t\t'fadedblue'3\n",
      "\t\t\t'noother'0\n",
      "\t\t'dottedblack'4\n",
      "\t\t\t'noother'0\n",
      "\t'vibrantplum'2\n",
      "\t\t'fadedblue'5\n",
      "\t\t\t'noother'0\n",
      "\t\t'dottedblack'6\n",
      "\t\t\t'noother'0\n",
      "\n"
     ]
    }
   ],
   "source": [
    "for child in tree.children:\n",
    "    print(tree.value)\n",
    "    \n",
    "print(tree)"
   ]
  },
  {
   "cell_type": "code",
   "execution_count": 545,
   "metadata": {},
   "outputs": [],
   "source": [
    "tree2 = build_tree(Node('darkolive', 1))"
   ]
  },
  {
   "cell_type": "code",
   "execution_count": 466,
   "metadata": {},
   "outputs": [
    {
     "name": "stdout",
     "output_type": "stream",
     "text": [
      "1\n",
      "1\n"
     ]
    }
   ],
   "source": [
    "for child in tree2.children:\n",
    "    print(tree2.value)"
   ]
  },
  {
   "cell_type": "code",
   "execution_count": 541,
   "metadata": {},
   "outputs": [
    {
     "data": {
      "text/plain": [
       "[]"
      ]
     },
     "execution_count": 541,
     "metadata": {},
     "output_type": "execute_result"
    }
   ],
   "source": [
    "tree3 = build_tree(Node('fadedblue', 3))\n",
    "tree3.children"
   ]
  },
  {
   "cell_type": "code",
   "execution_count": 465,
   "metadata": {},
   "outputs": [
    {
     "name": "stdout",
     "output_type": "stream",
     "text": [
      "3\n"
     ]
    }
   ],
   "source": [
    "for child in tree3.children:\n",
    "    if(child.value == 0):\n",
    "        print(tree3.value)"
   ]
  },
  {
   "cell_type": "code",
   "execution_count": 607,
   "metadata": {},
   "outputs": [],
   "source": [
    "result = 0\n",
    "def calculate(node, result):\n",
    "    children = node.children\n",
    "    if (children == []):\n",
    "        return node.value\n",
    "    else:\n",
    "        if (node.name != 'shinygold'):\n",
    "            result.append(node.value)\n",
    "        for child in node.children:\n",
    "            result.append((calculate(child, []) * node.value))\n",
    "    return result\n",
    "    \n",
    "            "
   ]
  },
  {
   "cell_type": "code",
   "execution_count": 590,
   "metadata": {},
   "outputs": [
    {
     "name": "stdout",
     "output_type": "stream",
     "text": [
      "[<tree node representation>, <tree node representation>]\n"
     ]
    }
   ],
   "source": []
  },
  {
   "cell_type": "code",
   "execution_count": 608,
   "metadata": {},
   "outputs": [],
   "source": [
    "result = calculate(tree, [])"
   ]
  },
  {
   "cell_type": "code",
   "execution_count": 613,
   "metadata": {},
   "outputs": [
    {
     "name": "stdout",
     "output_type": "stream",
     "text": [
      "32\n"
     ]
    }
   ],
   "source": [
    "output = 0\n",
    "for t in result:\n",
    "    output += sum(t)\n",
    "    \n",
    "print(output)\n",
    "    "
   ]
  },
  {
   "cell_type": "code",
   "execution_count": 523,
   "metadata": {},
   "outputs": [
    {
     "data": {
      "text/plain": [
       "12"
      ]
     },
     "execution_count": 523,
     "metadata": {},
     "output_type": "execute_result"
    }
   ],
   "source": [
    "2+2*5"
   ]
  },
  {
   "cell_type": "code",
   "execution_count": 524,
   "metadata": {},
   "outputs": [
    {
     "data": {
      "text/plain": [
       "14"
      ]
     },
     "execution_count": 524,
     "metadata": {},
     "output_type": "execute_result"
    }
   ],
   "source": [
    "2+2*6"
   ]
  },
  {
   "cell_type": "code",
   "execution_count": null,
   "metadata": {},
   "outputs": [],
   "source": []
  },
  {
   "cell_type": "code",
   "execution_count": null,
   "metadata": {},
   "outputs": [],
   "source": []
  }
 ],
 "metadata": {
  "kernelspec": {
   "display_name": "Python 3",
   "language": "python",
   "name": "python3"
  },
  "language_info": {
   "codemirror_mode": {
    "name": "ipython",
    "version": 3
   },
   "file_extension": ".py",
   "mimetype": "text/x-python",
   "name": "python",
   "nbconvert_exporter": "python",
   "pygments_lexer": "ipython3",
   "version": "3.8.2"
  }
 },
 "nbformat": 4,
 "nbformat_minor": 4
}
