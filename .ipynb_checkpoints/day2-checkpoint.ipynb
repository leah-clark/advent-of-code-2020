{
 "cells": [
  {
   "cell_type": "markdown",
   "metadata": {},
   "source": [
    "--- Day 2: Password Philosophy ---\n",
    "\n",
    "Your flight departs in a few days from the coastal airport; the easiest way down to the coast from here is via toboggan.\n",
    "\n",
    "The shopkeeper at the North Pole Toboggan Rental Shop is having a bad day. \"Something's wrong with our computers; we can't log in!\" You ask if you can take a look.\n",
    "\n",
    "Their password database seems to be a little corrupted: some of the passwords wouldn't have been allowed by the Official Toboggan Corporate Policy that was in effect when they were chosen.\n",
    "\n",
    "To try to debug the problem, they have created a list (your puzzle input) of passwords (according to the corrupted database) and the corporate policy when that password was set.\n",
    "\n",
    "For example, suppose you have the following list:\n",
    "\n",
    "    1-3 a: abcde\n",
    "    1-3 b: cdefg\n",
    "    2-9 c: ccccccccc\n",
    "\n",
    "Each line gives the password policy and then the password. The password policy indicates the lowest and highest number of times a given letter must appear for the password to be valid. For example, 1-3 a means that the password must contain a at least 1 time and at most 3 times.\n",
    "\n",
    "In the above example, 2 passwords are valid. The middle password, cdefg, is not; it contains no instances of b, but needs at least 1. The first and third passwords are valid: they contain one a or nine c, both within the limits of their respective policies.\n",
    "\n",
    "How many passwords are valid according to their policies?"
   ]
  },
  {
   "cell_type": "code",
   "execution_count": 9,
   "metadata": {},
   "outputs": [],
   "source": [
    "#get data and split into amounts, the letter given and the password/code\n",
    "\n",
    "file1 = open('day2.txt', 'r') \n",
    "Lines = file1.readlines()\n",
    "amounts = []\n",
    "letters = []\n",
    "passwords = []\n",
    "for line in Lines:\n",
    "    split_on_spcae = line.rstrip('\\n').split()\n",
    "    amounts.append(split_on_spcae[0])\n",
    "    letters.append(split_on_spcae[1].replace(':',''))\n",
    "    passwords.append(split_on_spcae[2])\n",
    "\n",
    "array_length = len(amounts)"
   ]
  },
  {
   "cell_type": "code",
   "execution_count": 5,
   "metadata": {},
   "outputs": [
    {
     "name": "stdout",
     "output_type": "stream",
     "text": [
      "614\n"
     ]
    }
   ],
   "source": [
    "def find_valid_passwords_1():\n",
    "    valid_counter = 0\n",
    "    for i in range(0, array_length):\n",
    "        amount = amounts[i].split('-')\n",
    "        lowest = int(amount[0])\n",
    "        highest = int(amount[-1])\n",
    "        letter = letters[i]\n",
    "        password = passwords[i]\n",
    "        letter_occurs = password.count(letter)\n",
    "        if (letter_occurs in range(lowest, highest+1)):\n",
    "            valid_counter += 1\n",
    "    return valid_counter\n",
    "\n",
    "part_one_answer = find_valid_passwords_1()\n",
    "print(part_one_answer)"
   ]
  },
  {
   "cell_type": "markdown",
   "metadata": {},
   "source": [
    "While it appears you validated the passwords correctly, they don't seem to be what the Official Toboggan Corporate Authentication System is expecting.\n",
    "\n",
    "The shopkeeper suddenly realizes that he just accidentally explained the password policy rules from his old job at the sled rental place down the street! The Official Toboggan Corporate Policy actually works a little differently.\n",
    "\n",
    "Each policy actually describes two positions in the password, where 1 means the first character, 2 means the second character, and so on. (Be careful; Toboggan Corporate Policies have no concept of \"index zero\"!) Exactly one of these positions must contain the given letter. Other occurrences of the letter are irrelevant for the purposes of policy enforcement.\n",
    "\n",
    "Given the same example list from above:\n",
    "\n",
    "    1-3 a: abcde is valid: position 1 contains a and position 3 does not.\n",
    "    1-3 b: cdefg is invalid: neither position 1 nor position 3 contains b.\n",
    "    2-9 c: ccccccccc is invalid: both position 2 and position 9 contain c.\n",
    "\n",
    "How many passwords are valid according to the new interpretation of the policies?"
   ]
  },
  {
   "cell_type": "code",
   "execution_count": 6,
   "metadata": {},
   "outputs": [
    {
     "name": "stdout",
     "output_type": "stream",
     "text": [
      "354\n"
     ]
    }
   ],
   "source": [
    "def find_valid_passwords_2():\n",
    "    valid_counter = 0\n",
    "    for i in range(0, array_length):\n",
    "        amount = amounts[i].split('-')\n",
    "        pos1 = int(amount[0])\n",
    "        pos2 = int(amount[-1])\n",
    "        global_letter = letters[i]\n",
    "        password = passwords[i]\n",
    "\n",
    "        letter1 = password[pos1-1]\n",
    "        letter2 = password[pos2-1]\n",
    "\n",
    "        if ((letter1 == global_letter) ^ (letter2 == global_letter)):\n",
    "            valid_counter += 1\n",
    "    return valid_counter\n",
    "            \n",
    "part_two_answer = find_valid_passwords_2()\n",
    "print(part_two_answer)"
   ]
  },
  {
   "cell_type": "code",
   "execution_count": null,
   "metadata": {},
   "outputs": [],
   "source": []
  }
 ],
 "metadata": {
  "kernelspec": {
   "display_name": "Python 3",
   "language": "python",
   "name": "python3"
  },
  "language_info": {
   "codemirror_mode": {
    "name": "ipython",
    "version": 3
   },
   "file_extension": ".py",
   "mimetype": "text/x-python",
   "name": "python",
   "nbconvert_exporter": "python",
   "pygments_lexer": "ipython3",
   "version": "3.8.2"
  }
 },
 "nbformat": 4,
 "nbformat_minor": 4
}
