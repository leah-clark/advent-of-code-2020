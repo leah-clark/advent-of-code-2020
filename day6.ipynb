{
 "cells": [
  {
   "cell_type": "markdown",
   "metadata": {},
   "source": [
    "--- Day 6: Custom Customs ---\n",
    "\n",
    "As your flight approaches the regional airport where you'll switch to a much larger plane, customs declaration forms are distributed to the passengers.\n",
    "\n",
    "The form asks a series of 26 yes-or-no questions marked a through z. All you need to do is identify the questions for which anyone in your group answers \"yes\". Since your group is just you, this doesn't take very long.\n",
    "\n",
    "However, the person sitting next to you seems to be experiencing a language barrier and asks if you can help. For each of the people in their group, you write down the questions for which they answer \"yes\", one per line. For example:\n",
    "\n",
    "    abcx\n",
    "    abcy\n",
    "    abcz\n",
    "\n",
    "In this group, there are 6 questions to which anyone answered \"yes\": a, b, c, x, y, and z. (Duplicate answers to the same question don't count extra; each question counts at most once.)\n",
    "\n",
    "Another group asks for your help, then another, and eventually you've collected answers from every group on the plane (your puzzle input). Each group's answers are separated by a blank line, and within each group, each person's answers are on a single line. For example:\n",
    "\n",
    "    abc\n",
    "\n",
    "    a\n",
    "    b\n",
    "    c\n",
    "\n",
    "    ab\n",
    "    ac\n",
    "\n",
    "    a\n",
    "    a\n",
    "    a\n",
    "    a\n",
    "\n",
    "    b\n",
    "\n",
    "This list represents answers from five groups:\n",
    "\n",
    "    The first group contains one person who answered \"yes\" to 3 questions: a, b, and c.\n",
    "    The second group contains three people; combined, they answered \"yes\" to 3 questions: a, b, and c.\n",
    "    The third group contains two people; combined, they answered \"yes\" to 3 questions: a, b, and c.\n",
    "    The fourth group contains four people; combined, they answered \"yes\" to only 1 question, a.\n",
    "    The last group contains one person who answered \"yes\" to only 1 question, b.\n",
    "    In this example, the sum of these counts is 3 + 3 + 3 + 1 + 1 = 11.\n",
    "\n",
    "For each group, count the number of questions to which anyone answered \"yes\". What is the sum of those counts?"
   ]
  },
  {
   "cell_type": "code",
   "execution_count": 77,
   "metadata": {},
   "outputs": [],
   "source": [
    "# read the data into a list by empty line (separating the groups)\n",
    "\n",
    "def read_file():\n",
    "    file1 = open('data/day6.txt', 'r') \n",
    "    Lines = file1.read()\n",
    "    groups_new = []\n",
    "    groups = Lines.split('\\n\\n')\n",
    "    return groups"
   ]
  },
  {
   "cell_type": "code",
   "execution_count": 102,
   "metadata": {},
   "outputs": [
    {
     "name": "stdout",
     "output_type": "stream",
     "text": [
      "Part one answer: 6903\n"
     ]
    }
   ],
   "source": [
    "# chuck the letters into a set, so it removes the duplicates & count\n",
    "\n",
    "import re\n",
    "\n",
    "def yes_letters(group):\n",
    "    return set(re.sub(\"\\n\", '', group))\n",
    "\n",
    "def count_yes_answers():\n",
    "    groups = read_file()\n",
    "    answered_yes = 0\n",
    "    for group in groups:\n",
    "        answered_yes += len(yes_letters(group))\n",
    "    return answered_yes\n",
    "    \n",
    "part_one_answer = count_yes_answers()\n",
    "print(\"Part one answer: \" + str(part_one_answer))"
   ]
  },
  {
   "cell_type": "code",
   "execution_count": 99,
   "metadata": {},
   "outputs": [
    {
     "data": {
      "text/plain": [
       "True"
      ]
     },
     "execution_count": 99,
     "metadata": {},
     "output_type": "execute_result"
    }
   ],
   "source": [
    "# testing the regex \n",
    "\n",
    "test_group = 'kimczeyaqwbs\\npwmsf\\nwgmfus\\nlofjwnms\\nrwsum'\n",
    "\n",
    "output = yes_letters(test_group)\n",
    "\n",
    "output == set(['i', 'o', 'w', 'p', 'f', 'e', 'q', 'l', 'r', 'k', 'j', 'b', 'n', 's', 'g', 'u', 'c', 'z', 'y', 'm', 'a'])"
   ]
  },
  {
   "cell_type": "markdown",
   "metadata": {},
   "source": [
    "--- Part Two ---\n",
    "\n",
    "As you finish the last group's customs declaration, you notice that you misread one word in the instructions:\n",
    "\n",
    "You don't need to identify the questions to which anyone answered \"yes\"; you need to identify the questions to which everyone answered \"yes\"!\n",
    "\n",
    "Using the same example as above:\n",
    "\n",
    "    abc\n",
    "\n",
    "    a\n",
    "    b\n",
    "    c\n",
    "\n",
    "    ab\n",
    "    ac\n",
    "\n",
    "    a\n",
    "    a\n",
    "    a\n",
    "    a\n",
    "\n",
    "    b\n",
    "\n",
    "This list represents answers from five groups:\n",
    "\n",
    "    In the first group, everyone (all 1 person) answered \"yes\" to 3 questions: a, b, and c.\n",
    "    In the second group, there is no question to which everyone answered \"yes\".\n",
    "    In the third group, everyone answered yes to only 1 question, a. Since some people did not answer \"yes\" to b or c, they don't count.\n",
    "    In the fourth group, everyone answered yes to only 1 question, a.\n",
    "    In the fifth group, everyone (all 1 person) answered \"yes\" to 1 question, b.\n",
    "    In this example, the sum of these counts is 3 + 0 + 1 + 1 + 1 = 6.\n",
    "\n",
    "For each group, count the number of questions to which everyone answered \"yes\". What is the sum of those counts?"
   ]
  },
  {
   "cell_type": "code",
   "execution_count": 105,
   "metadata": {},
   "outputs": [
    {
     "name": "stdout",
     "output_type": "stream",
     "text": [
      "Part two answer: 3493\n"
     ]
    }
   ],
   "source": [
    "# this time take the intersection\n",
    "\n",
    "def yes_letters(group):\n",
    "    combined_group = re.compile(\"\\n\").split(group)\n",
    "    return set(combined_group[0]).intersection(*combined_group)\n",
    "    \n",
    "def count_yes_answers_group():\n",
    "    groups = read_file()\n",
    "    answered_yes = 0\n",
    "    for group in groups:\n",
    "        answered_yes += len(yes_letters(group))\n",
    "    return answered_yes\n",
    "    \n",
    "part_two_answer = count_yes_answers_group()\n",
    "print(\"Part two answer: \" + str(part_two_answer))"
   ]
  },
  {
   "cell_type": "code",
   "execution_count": 91,
   "metadata": {},
   "outputs": [
    {
     "data": {
      "text/plain": [
       "True"
      ]
     },
     "execution_count": 91,
     "metadata": {},
     "output_type": "execute_result"
    }
   ],
   "source": [
    "# testing the regex \n",
    "\n",
    "test_group = 'kimczeyaqwbs\\npwmsf\\nwgmfus\\nlofjwnms\\nrwsum'\n",
    "\n",
    "output = yes_letters(test_group)\n",
    "\n",
    "output == set(['w', 's', 'm'])"
   ]
  }
 ],
 "metadata": {
  "kernelspec": {
   "display_name": "Python 3",
   "language": "python",
   "name": "python3"
  },
  "language_info": {
   "codemirror_mode": {
    "name": "ipython",
    "version": 3
   },
   "file_extension": ".py",
   "mimetype": "text/x-python",
   "name": "python",
   "nbconvert_exporter": "python",
   "pygments_lexer": "ipython3",
   "version": "3.8.2"
  }
 },
 "nbformat": 4,
 "nbformat_minor": 4
}
