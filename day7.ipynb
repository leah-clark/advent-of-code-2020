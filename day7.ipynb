{
 "cells": [
  {
   "cell_type": "markdown",
   "metadata": {},
   "source": [
    "--- Day 7: Handy Haversacks ---\n",
    "\n",
    "You land at the regional airport in time for your next flight. In fact, it looks like you'll even have time to grab some food: all flights are currently delayed due to issues in luggage processing.\n",
    "\n",
    "Due to recent aviation regulations, many rules (your puzzle input) are being enforced about bags and their contents; bags must be color-coded and must contain specific quantities of other color-coded bags. Apparently, nobody responsible for these regulations considered how long they would take to enforce!\n",
    "\n",
    "For example, consider the following rules:\n",
    "\n",
    "    light red bags contain 1 bright white bag, 2 muted yellow bags.\n",
    "    dark orange bags contain 3 bright white bags, 4 muted yellow bags.\n",
    "    bright white bags contain 1 shiny gold bag.\n",
    "    muted yellow bags contain 2 shiny gold bags, 9 faded blue bags.\n",
    "    shiny gold bags contain 1 dark olive bag, 2 vibrant plum bags.\n",
    "    dark olive bags contain 3 faded blue bags, 4 dotted black bags.\n",
    "    vibrant plum bags contain 5 faded blue bags, 6 dotted black bags.\n",
    "    faded blue bags contain no other bags.\n",
    "    dotted black bags contain no other bags.\n",
    "\n",
    "These rules specify the required contents for 9 bag types. In this example, every faded blue bag is empty, every vibrant plum bag contains 11 bags (5 faded blue and 6 dotted black), and so on.\n",
    "\n",
    "You have a shiny gold bag. If you wanted to carry it in at least one other bag, how many different bag colors would be valid for the outermost bag? (In other words: how many colors can, eventually, contain at least one shiny gold bag?)\n",
    "\n",
    "In the above rules, the following options would be available to you:\n",
    "\n",
    "    A bright white bag, which can hold your shiny gold bag directly.\n",
    "    A muted yellow bag, which can hold your shiny gold bag directly, plus some other bags.\n",
    "    A dark orange bag, which can hold bright white and muted yellow bags, either of which could then hold your shiny gold bag.\n",
    "    A light red bag, which can hold bright white and muted yellow bags, either of which could then hold your shiny gold bag.\n",
    "    So, in this example, the number of bag colors that can eventually contain at least one shiny gold bag is 4.\n",
    "\n",
    "How many bag colors can eventually contain at least one shiny gold bag? (The list of rules is quite long; make sure you get all of it.)"
   ]
  },
  {
   "cell_type": "code",
   "execution_count": 15,
   "metadata": {},
   "outputs": [],
   "source": [
    "# add the example data \n",
    "\n",
    "import re\n",
    "\n",
    "def read_file_to_arry():\n",
    "    file1 = open('data/day7.txt', 'r') \n",
    "    Lines = file1.readlines()\n",
    "    rules = []\n",
    "    for line in Lines:\n",
    "        rules.append(line.rstrip('\\n'))\n",
    "    return rules\n",
    "\n",
    "# parse to a dictionary for O(1) lookup - \n",
    "\n",
    "def parse_to_dictionary():\n",
    "    rules = read_file_to_arry()\n",
    "    rules_dic = {}\n",
    "    for rule in rules:\n",
    "        bags = re.compile(\" contain|, \").split(rule)\n",
    "        bag_list = []\n",
    "        for bag in bags:\n",
    "            num = re.findall('\\d', bag)\n",
    "            if (num):\n",
    "                num = int(num[0])\n",
    "            else:\n",
    "                num = 0\n",
    "            bag_list.append((re.sub('bags|\\\\.|bag|\\d| ', '', bag), num))\n",
    "        rules_dic[bag_list[0][0]] = bag_list[1:]\n",
    "    return rules_dic"
   ]
  },
  {
   "cell_type": "code",
   "execution_count": 19,
   "metadata": {},
   "outputs": [],
   "source": [
    "class Node(object):\n",
    "    def __init__(self, name, value):\n",
    "        self.name = name\n",
    "        self.value = value\n",
    "        self.children = []\n",
    "    def add_child(self, obj):\n",
    "        self.children.append(obj)\n",
    "    def __str__(self, level=0):\n",
    "        ret = \"\\t\"*level+repr(self.name)+repr(self.value)+\"\\n\"\n",
    "        for child in self.children:\n",
    "            ret += child.__str__(level+1)\n",
    "        return ret\n",
    "\n",
    "    def __repr__(self):\n",
    "        return '<tree node representation>'\n",
    "\n",
    "def build_tree(node, rules_dic):\n",
    "    children = rules_dic[node.name]\n",
    "    if (len(children) == 1 and children[0][0] == 'noother'):\n",
    "        return node\n",
    "    else:\n",
    "        for child in children:\n",
    "            node.add_child(build_tree(Node(child[0], child[1]), rules_dic))\n",
    "    return node\n"
   ]
  },
  {
   "cell_type": "code",
   "execution_count": 20,
   "metadata": {},
   "outputs": [
    {
     "name": "stdout",
     "output_type": "stream",
     "text": [
      "Part one answer: 226\n"
     ]
    }
   ],
   "source": [
    "def search_tree(node, key, result):\n",
    "    result = []\n",
    "    if (node.name == key):\n",
    "        result.append(1)\n",
    "    for child in node.children:\n",
    "        result.extend(search_tree(child, key, result))\n",
    "    return result\n",
    "\n",
    "def search_bag(rules_dic):\n",
    "    count_shiny_gold_bags = 0\n",
    "    for key in rules_dic:\n",
    "        if (key != 'shinygold'):\n",
    "            tree = build_tree(Node(key, 1), rules_dic)\n",
    "            count = len(search_tree(tree, 'shinygold', []))\n",
    "            if (count > 0):\n",
    "                count_shiny_gold_bags += 1\n",
    "    return count_shiny_gold_bags\n",
    "\n",
    "rules_dic = parse_to_dictionary()\n",
    "part_one_answer = search_bag(rules_dic)\n",
    "print(\"Part one answer: \" + str(part_one_answer))"
   ]
  },
  {
   "cell_type": "markdown",
   "metadata": {},
   "source": [
    "--- Part Two ---\n",
    "\n",
    "It's getting pretty expensive to fly these days - not because of ticket prices, but because of the ridiculous number of bags you need to buy!\n",
    "\n",
    "Consider again your shiny gold bag and the rules from the above example:\n",
    "\n",
    "    faded blue bags contain 0 other bags.\n",
    "    dotted black bags contain 0 other bags.\n",
    "    vibrant plum bags contain 11 other bags: 5 faded blue bags and 6 dotted black bags.\n",
    "    dark olive bags contain 7 other bags: 3 faded blue bags and 4 dotted black bags.\n",
    "\n",
    "So, a single shiny gold bag must contain 1 dark olive bag (and the 7 bags within it) plus 2 vibrant plum bags (and the 11 bags within each of those): 1 + 1*7 + 2 + 2*11 = 32 bags!\n",
    "\n",
    "Of course, the actual rules have a small chance of going several levels deeper than this example; be sure to count all of the bags, even if the nesting becomes topologically impractical!\n",
    "\n",
    "Here's another example:\n",
    "\n",
    "    shiny gold bags contain 2 dark red bags.\n",
    "    dark red bags contain 2 dark orange bags.\n",
    "    dark orange bags contain 2 dark yellow bags.\n",
    "    dark yellow bags contain 2 dark green bags.\n",
    "    dark green bags contain 2 dark blue bags.\n",
    "    dark blue bags contain 2 dark violet bags.\n",
    "    dark violet bags contain no other bags.\n",
    "\n",
    "In this example, a single shiny gold bag must contain 126 other bags.\n",
    "\n",
    "How many individual bags are required inside your single shiny gold bag?"
   ]
  },
  {
   "cell_type": "code",
   "execution_count": 18,
   "metadata": {},
   "outputs": [
    {
     "name": "stdout",
     "output_type": "stream",
     "text": [
      "Part two answer: 9569\n"
     ]
    }
   ],
   "source": [
    "def flatten(aList):\n",
    "    t = []\n",
    "    for i in aList:\n",
    "        if not isinstance(i, list):\n",
    "            t.append(i)\n",
    "        else:\n",
    "            t.extend(flatten(i))\n",
    "    return t\n",
    "\n",
    "def traverse(node, result):\n",
    "    children = node.children\n",
    "    if (children == []):\n",
    "        return node.value\n",
    "    else:\n",
    "        if (node.name != 'shinygold'):\n",
    "            result.append(node.value)\n",
    "        for child in node.children:\n",
    "            out = traverse(child, []) * node.value\n",
    "            result.append(out)\n",
    "    return result\n",
    "    \n",
    "def search_bag(rules_dic):\n",
    "    tree = build_tree(Node('shinygold', 1), rules_dic)\n",
    "    count = sum(flatten(traverse(tree, [])))\n",
    "    return count\n",
    "  \n",
    "rules_dic = parse_to_dictionary()\n",
    "part_two_answer = search_bag(rules_dic)\n",
    "print(\"Part two answer: \" + str(part_two_answer))"
   ]
  },
  {
   "cell_type": "code",
   "execution_count": null,
   "metadata": {},
   "outputs": [],
   "source": []
  }
 ],
 "metadata": {
  "kernelspec": {
   "display_name": "Python 3",
   "language": "python",
   "name": "python3"
  },
  "language_info": {
   "codemirror_mode": {
    "name": "ipython",
    "version": 3
   },
   "file_extension": ".py",
   "mimetype": "text/x-python",
   "name": "python",
   "nbconvert_exporter": "python",
   "pygments_lexer": "ipython3",
   "version": "3.8.2"
  }
 },
 "nbformat": 4,
 "nbformat_minor": 4
}
