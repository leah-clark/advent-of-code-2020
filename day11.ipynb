{
 "cells": [
  {
   "cell_type": "code",
   "execution_count": 250,
   "metadata": {},
   "outputs": [],
   "source": [
    "def read_file_to_arry():\n",
    "    file1 = open('data/day11.txt', 'r') \n",
    "    Lines = file1.readlines()\n",
    "    data = []\n",
    "    for line in Lines:\n",
    "        letters = []\n",
    "        for letter in line:\n",
    "            if (letter != '\\n'):\n",
    "                letters.append(letter)\n",
    "        letters.insert(0, 'N')\n",
    "        letters.append('N')\n",
    "        data.append(letters)\n",
    "    data.insert(0,['N'] * len(data[0]))\n",
    "    data.append(['N'] * len(data[0]))\n",
    "    return data\n"
   ]
  },
  {
   "cell_type": "code",
   "execution_count": 255,
   "metadata": {},
   "outputs": [],
   "source": [
    "import copy\n",
    "\n",
    "def check(data, v, h, v_direction, h_direction):\n",
    "    if (data[v+v_direction][h+h_direction] == 'L'):\n",
    "        return 0\n",
    "    elif (data[v+v_direction][h+h_direction] == '#'):\n",
    "        return 1\n",
    "    elif (data[v+v_direction][h+h_direction] == 'N'):\n",
    "        return 0\n",
    "    else:\n",
    "        return check(data, v+v_direction, h+h_direction, v_direction, h_direction)\n",
    "\n",
    "def check_adjacent_2(data, v, h):\n",
    "    left = check(data, v, h, 0, -1)\n",
    "    right = check(data, v, h, 0, 1)\n",
    "    down = check(data, v, h, 1, 0)\n",
    "    up = check(data, v, h, -1, 0)\n",
    "    up_right = check(data, v, h, -1, 1)\n",
    "    down_right = check(data, v, h, 1, 1)\n",
    "    up_left = check(data, v, h, -1, -1)\n",
    "    down_left = check(data, v, h, 1, -1)\n",
    "    \n",
    "    adj_seats = left + right + down + up + up_right + down_right + up_left + down_left \n",
    "    \n",
    "    return adj_seats\n",
    "\n",
    "def check_adjacent_1(data, v, h):\n",
    "    left = data[v][h-1]\n",
    "    right = data[v][h+1]\n",
    "    down = data[v+1][h]\n",
    "    up = data[v-1][h]\n",
    "    up_right = data[v-1][h+1]\n",
    "    down_right = data[v+1][h+1]\n",
    "    up_left = data[v-1][h-1]\n",
    "    down_left = data[v+1][h-1]\n",
    "    \n",
    "    adj_seats = left + right + down + up + up_right + down_right + up_left + down_left \n",
    "    \n",
    "    return adj_seats.count('#')\n",
    "\n",
    "def check_adjacent(data, v, h, part):\n",
    "    if (part == 1):\n",
    "        return check_adjacent_1(data, v, h)\n",
    "    return check_adjacent_2(data, v, h)\n",
    "\n",
    "def traverse_matrix(data, part):\n",
    "    if (part == 1):\n",
    "        tolerence = 3\n",
    "    else:\n",
    "        tolerence = 4\n",
    "    data_final = copy.deepcopy(data)\n",
    "    for v in range(1, len(data)-1):\n",
    "        for h in range(1, len(data[0])-1):\n",
    "            if(data[v][h] == 'L'):\n",
    "                adj_seats = check_adjacent(data, v, h, part)\n",
    "                if (adj_seats == 0):\n",
    "                    data_final[v][h] = '#'\n",
    "            elif(data[v][h] == '#'):\n",
    "                adj_seats = check_adjacent(data, v, h, part)\n",
    "                if (adj_seats > tolerence):\n",
    "                    data_final[v][h] = 'L'\n",
    "    return data_final\n"
   ]
  },
  {
   "cell_type": "code",
   "execution_count": 256,
   "metadata": {},
   "outputs": [
    {
     "name": "stdout",
     "output_type": "stream",
     "text": [
      "Part one answer: 2254\n"
     ]
    }
   ],
   "source": [
    "data = read_file_to_arry()\n",
    "\n",
    "flatten = lambda t: [item for sublist in t for item in sublist]\n",
    "\n",
    "# very much assumes that it will always terminate... \n",
    "\n",
    "def recurse(data, part):\n",
    "    if(data == traverse_matrix(data, part)):\n",
    "        seats = flatten(data)\n",
    "        return seats.count('#')\n",
    "    else:\n",
    "        return recurse(traverse_matrix(data, part), part)\n",
    "    \n",
    "part_one_answer = recurse(data, 1)\n",
    "print(\"Part one answer: \" + str(part_one_answer))"
   ]
  },
  {
   "cell_type": "code",
   "execution_count": 257,
   "metadata": {},
   "outputs": [
    {
     "name": "stdout",
     "output_type": "stream",
     "text": [
      "Part two answer: 2004\n"
     ]
    }
   ],
   "source": [
    "data = read_file_to_arry()\n",
    "\n",
    "part_two_answer = recurse(data, 2)\n",
    "print(\"Part two answer: \" + str(part_two_answer))"
   ]
  }
 ],
 "metadata": {
  "kernelspec": {
   "display_name": "Python 3",
   "language": "python",
   "name": "python3"
  },
  "language_info": {
   "codemirror_mode": {
    "name": "ipython",
    "version": 3
   },
   "file_extension": ".py",
   "mimetype": "text/x-python",
   "name": "python",
   "nbconvert_exporter": "python",
   "pygments_lexer": "ipython3",
   "version": "3.8.2"
  }
 },
 "nbformat": 4,
 "nbformat_minor": 4
}
